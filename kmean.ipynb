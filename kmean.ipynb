{
  "nbformat": 4,
  "nbformat_minor": 0,
  "metadata": {
    "colab": {
      "name": "kmean.ipynb",
      "provenance": [],
      "collapsed_sections": [],
      "toc_visible": true,
      "authorship_tag": "ABX9TyPMyA3eF1ePCcxVFLR62VFD",
      "include_colab_link": true
    },
    "kernelspec": {
      "name": "python3",
      "display_name": "Python 3"
    },
    "language_info": {
      "name": "python"
    }
  },
  "cells": [
    {
      "cell_type": "markdown",
      "metadata": {
        "id": "view-in-github",
        "colab_type": "text"
      },
      "source": [
        "<a href=\"https://colab.research.google.com/github/pratikp12/clustering-Hacker-data-solution/blob/main/kmean.ipynb\" target=\"_parent\"><img src=\"https://colab.research.google.com/assets/colab-badge.svg\" alt=\"Open In Colab\"/></a>"
      ]
    },
    {
      "cell_type": "markdown",
      "metadata": {
        "id": "qBiftSEsu0wD"
      },
      "source": [
        "# Clustering Consulting Project - Solutions\n",
        "\n",
        "A large technology firm needs your help, they've been hacked! Luckily their forensic engineers have grabbed valuable data about the hacks, including information like session time,locations, wpm typing speed, etc. The forensic engineer relates to you what she has been able to figure out so far, she has been able to grab meta data of each session that the hackers used to connect to their servers. These are the features of the data:\n",
        "\n",
        "* 'Session_Connection_Time': How long the session lasted in minutes\n",
        "* 'Bytes Transferred': Number of MB transferred during session\n",
        "* 'Kali_Trace_Used': Indicates if the hacker was using Kali Linux\n",
        "* 'Servers_Corrupted': Number of server corrupted during the attack\n",
        "* 'Pages_Corrupted': Number of pages illegally accessed\n",
        "* 'Location': Location attack came from (Probably useless because the hackers used VPNs)\n",
        "* 'WPM_Typing_Speed': Their estimated typing speed based on session logs.\n",
        "\n",
        "\n",
        "The technology firm has 3 potential hackers that perpetrated the attack. Their certain of the first two hackers but they aren't very sure if the third hacker was involved or not. They have requested your help! Can you help figure out whether or not the third suspect had anything to do with the attacks, or was it just two hackers? It's probably not possible to know for sure, but maybe what you've just learned about Clustering can help!\n",
        "\n",
        "**One last key fact, the forensic engineer knows that the hackers trade off attacks. Meaning they should each have roughly the same amount of attacks. For example if there were 100 total attacks, then in a 2 hacker situation each should have about 50 hacks, in a three hacker situation each would have about 33 hacks. The engineer believes this is the key element to solving this, but doesn't know how to distinguish this unlabeled data into groups of hackers.**"
      ]
    },
    {
      "cell_type": "code",
      "metadata": {
        "id": "qp2gZU0YuzWj"
      },
      "source": [
        "import pandas as pd\n",
        "import numpy as np\n",
        "from sklearn.cluster import KMeans\n",
        "import matplotlib.pyplot as plt"
      ],
      "execution_count": null,
      "outputs": []
    },
    {
      "cell_type": "code",
      "metadata": {
        "id": "RNf__ruTt3O-"
      },
      "source": [
        ""
      ],
      "execution_count": null,
      "outputs": []
    },
    {
      "cell_type": "code",
      "metadata": {
        "colab": {
          "base_uri": "https://localhost:8080/",
          "height": 204
        },
        "id": "aLtmo4SIt8PA",
        "outputId": "2c2101e3-92ae-4b42-ba40-ba9a165f4445"
      },
      "source": [
        "data = pd.read_csv('hack_data.csv',)\n",
        "data.head()"
      ],
      "execution_count": null,
      "outputs": [
        {
          "output_type": "execute_result",
          "data": {
            "text/html": [
              "<div>\n",
              "<style scoped>\n",
              "    .dataframe tbody tr th:only-of-type {\n",
              "        vertical-align: middle;\n",
              "    }\n",
              "\n",
              "    .dataframe tbody tr th {\n",
              "        vertical-align: top;\n",
              "    }\n",
              "\n",
              "    .dataframe thead th {\n",
              "        text-align: right;\n",
              "    }\n",
              "</style>\n",
              "<table border=\"1\" class=\"dataframe\">\n",
              "  <thead>\n",
              "    <tr style=\"text-align: right;\">\n",
              "      <th></th>\n",
              "      <th>Session_Connection_Time</th>\n",
              "      <th>Bytes Transferred</th>\n",
              "      <th>Kali_Trace_Used</th>\n",
              "      <th>Servers_Corrupted</th>\n",
              "      <th>Pages_Corrupted</th>\n",
              "      <th>Location</th>\n",
              "      <th>WPM_Typing_Speed</th>\n",
              "    </tr>\n",
              "  </thead>\n",
              "  <tbody>\n",
              "    <tr>\n",
              "      <th>0</th>\n",
              "      <td>8.0</td>\n",
              "      <td>391.09</td>\n",
              "      <td>1</td>\n",
              "      <td>2.96</td>\n",
              "      <td>7.0</td>\n",
              "      <td>Slovenia</td>\n",
              "      <td>72.37</td>\n",
              "    </tr>\n",
              "    <tr>\n",
              "      <th>1</th>\n",
              "      <td>20.0</td>\n",
              "      <td>720.99</td>\n",
              "      <td>0</td>\n",
              "      <td>3.04</td>\n",
              "      <td>9.0</td>\n",
              "      <td>British Virgin Islands</td>\n",
              "      <td>69.08</td>\n",
              "    </tr>\n",
              "    <tr>\n",
              "      <th>2</th>\n",
              "      <td>31.0</td>\n",
              "      <td>356.32</td>\n",
              "      <td>1</td>\n",
              "      <td>3.71</td>\n",
              "      <td>8.0</td>\n",
              "      <td>Tokelau</td>\n",
              "      <td>70.58</td>\n",
              "    </tr>\n",
              "    <tr>\n",
              "      <th>3</th>\n",
              "      <td>2.0</td>\n",
              "      <td>228.08</td>\n",
              "      <td>1</td>\n",
              "      <td>2.48</td>\n",
              "      <td>8.0</td>\n",
              "      <td>Bolivia</td>\n",
              "      <td>70.80</td>\n",
              "    </tr>\n",
              "    <tr>\n",
              "      <th>4</th>\n",
              "      <td>20.0</td>\n",
              "      <td>408.50</td>\n",
              "      <td>0</td>\n",
              "      <td>3.57</td>\n",
              "      <td>8.0</td>\n",
              "      <td>Iraq</td>\n",
              "      <td>71.28</td>\n",
              "    </tr>\n",
              "  </tbody>\n",
              "</table>\n",
              "</div>"
            ],
            "text/plain": [
              "   Session_Connection_Time  ...  WPM_Typing_Speed\n",
              "0                      8.0  ...             72.37\n",
              "1                     20.0  ...             69.08\n",
              "2                     31.0  ...             70.58\n",
              "3                      2.0  ...             70.80\n",
              "4                     20.0  ...             71.28\n",
              "\n",
              "[5 rows x 7 columns]"
            ]
          },
          "metadata": {},
          "execution_count": 2
        }
      ]
    },
    {
      "cell_type": "code",
      "metadata": {
        "colab": {
          "base_uri": "https://localhost:8080/"
        },
        "id": "LpDwz6O70cOV",
        "outputId": "8aea6053-b976-41d5-a68e-224f51fc5212"
      },
      "source": [
        "data =data.drop('Location',axis=1)\n",
        "data.columns"
      ],
      "execution_count": null,
      "outputs": [
        {
          "output_type": "execute_result",
          "data": {
            "text/plain": [
              "Index(['Session_Connection_Time', 'Bytes Transferred', 'Kali_Trace_Used',\n",
              "       'Servers_Corrupted', 'Pages_Corrupted', 'WPM_Typing_Speed'],\n",
              "      dtype='object')"
            ]
          },
          "metadata": {},
          "execution_count": 3
        }
      ]
    },
    {
      "cell_type": "code",
      "metadata": {
        "colab": {
          "base_uri": "https://localhost:8080/"
        },
        "id": "Xk8IPcmGy6P8",
        "outputId": "c31f709d-e58b-4ada-cff0-f63b5fc8862d"
      },
      "source": [
        "from sklearn.compose import ColumnTransformer\n",
        "from sklearn.preprocessing import StandardScaler\n",
        "\n",
        "ct = ColumnTransformer([\n",
        "        ('somename', StandardScaler(),list(data.columns))\n",
        "    ], remainder='passthrough')\n",
        "data=ct.fit_transform(data)\n",
        "data"
      ],
      "execution_count": null,
      "outputs": [
        {
          "output_type": "execute_result",
          "data": {
            "text/plain": [
              "array([[-1.56457197, -0.75603359,  0.97632801, -1.00001941, -1.25479003,\n",
              "         1.12221913],\n",
              "       [-0.71151736,  0.39783827, -1.02424594, -0.96521347, -0.60096808,\n",
              "         0.87653121],\n",
              "       [ 0.07044937, -0.87764658,  0.97632801, -0.67371374, -0.92787905,\n",
              "         0.98854698],\n",
              "       ...,\n",
              "       [ 0.63915245,  0.29021584,  0.97632801,  0.67066562,  0.70667582,\n",
              "        -1.0897189 ],\n",
              "       [ 0.42588879,  1.58598701,  0.97632801,  0.43572553,  1.03358679,\n",
              "        -1.00682724],\n",
              "       [ 0.8524161 ,  0.42749826, -1.02424594,  1.17100097,  1.03358679,\n",
              "        -0.90153241]])"
            ]
          },
          "metadata": {},
          "execution_count": 4
        }
      ]
    },
    {
      "cell_type": "code",
      "metadata": {
        "id": "8EmuXdUa10Z7"
      },
      "source": [
        "from sklearn.cluster import KMeans\n",
        "\n",
        "km2 = KMeans(\n",
        "    n_clusters=2, random_state=0\n",
        ")\n",
        "\n",
        "km3 = KMeans(\n",
        "    n_clusters=3, random_state=0\n",
        ")\n",
        "km2pred = km2.fit_predict(data)\n",
        "km3pred = km3.fit_predict(data)"
      ],
      "execution_count": null,
      "outputs": []
    },
    {
      "cell_type": "code",
      "metadata": {
        "colab": {
          "base_uri": "https://localhost:8080/"
        },
        "id": "RoTRoDjU-S24",
        "outputId": "3a832fba-bf05-4631-8026-e6e91b1646ca"
      },
      "source": [
        "print(\"With K=3\")\n",
        "print(\"Within Set Sum of Squared Errors = \" + str(km3.inertia_))\n",
        "print('--'*30)\n",
        "print(\"With K=2\")\n",
        "print(\"Within Set Sum of Squared Errors = \" + str(km2.inertia_))"
      ],
      "execution_count": null,
      "outputs": [
        {
          "output_type": "stream",
          "name": "stdout",
          "text": [
            "With K=3\n",
            "Within Set Sum of Squared Errors = 435.4530414928181\n",
            "------------------------------------------------------------\n",
            "With K=2\n",
            "Within Set Sum of Squared Errors = 603.5778706408448\n"
          ]
        }
      ]
    },
    {
      "cell_type": "markdown",
      "metadata": {
        "id": "Nnv7JiJWJ8c0"
      },
      "source": [
        "Not much to be gained from the WSSSE, after all, we would expect that as K increases, the WSSSE decreases. We could however continue the analysis by seeing the drop from K=3 to K=4 to check if the clustering favors even or odd numbers. This won't be substantial, but its worth a look:"
      ]
    },
    {
      "cell_type": "code",
      "metadata": {
        "colab": {
          "base_uri": "https://localhost:8080/"
        },
        "id": "RMz9RzqYJ78x",
        "outputId": "3216e2e0-51cd-4e54-9ba4-c1daf2cea5ef"
      },
      "source": [
        "for k in range(2,9):\n",
        "    model=KMeans(\n",
        "    n_clusters=k, random_state=0)\n",
        "    model.fit(data)\n",
        "    wssse = model.inertia_\n",
        "    print(\"With K={}\".format(k))\n",
        "    print(\"Within Set Sum of Squared Errors = \" + str(wssse))\n",
        "    print('--'*30)"
      ],
      "execution_count": null,
      "outputs": [
        {
          "output_type": "stream",
          "name": "stdout",
          "text": [
            "With K=2\n",
            "Within Set Sum of Squared Errors = 603.5778706408448\n",
            "------------------------------------------------------------\n",
            "With K=3\n",
            "Within Set Sum of Squared Errors = 435.4530414928181\n",
            "------------------------------------------------------------\n",
            "With K=4\n",
            "Within Set Sum of Squared Errors = 267.9358147268938\n",
            "------------------------------------------------------------\n",
            "With K=5\n",
            "Within Set Sum of Squared Errors = 246.10104477285415\n",
            "------------------------------------------------------------\n",
            "With K=6\n",
            "Within Set Sum of Squared Errors = 226.770800339213\n",
            "------------------------------------------------------------\n",
            "With K=7\n",
            "Within Set Sum of Squared Errors = 206.16963748174751\n",
            "------------------------------------------------------------\n",
            "With K=8\n",
            "Within Set Sum of Squared Errors = 191.05736189974053\n",
            "------------------------------------------------------------\n"
          ]
        }
      ]
    },
    {
      "cell_type": "code",
      "metadata": {
        "colab": {
          "base_uri": "https://localhost:8080/",
          "height": 279
        },
        "id": "r5zybPCD8laz",
        "outputId": "17f0c48b-62ce-4f2d-c1a6-5b01f199c380"
      },
      "source": [
        "\n",
        "# calculate distortion for a range of number of cluster\n",
        "distortions = []\n",
        "for i in range(1, 11):\n",
        "    km = KMeans(\n",
        "        n_clusters=i, init='random',\n",
        "        n_init=10, max_iter=300,\n",
        "        tol=1e-04, random_state=0\n",
        "    )\n",
        "    km.fit(data)\n",
        "    distortions.append(km.inertia_)\n",
        "\n",
        "# plot\n",
        "plt.plot(range(1, 11), distortions, marker='o')\n",
        "plt.xlabel('Number of clusters')\n",
        "plt.ylabel('Distortion')\n",
        "plt.show()"
      ],
      "execution_count": null,
      "outputs": [
        {
          "output_type": "display_data",
          "data": {
            "image/png": "[encoded data removed]",
            "text/plain": [
              "<Figure size 432x288 with 1 Axes>"
            ]
          },
          "metadata": {
            "needs_background": "light"
          }
        }
      ]
    },
    {
      "cell_type": "markdown",
      "metadata": {
        "id": "l7vyMTROKofS"
      },
      "source": [
        "**Nothing definitive can be said with the above, but wait! The last key fact that the engineer mentioned was that the attacks should be evenly numbered between the hackers! Let's check with the transform and prediction columns that result form this! Congratulations if you made this connection, it was quite tricky given what we've covered!**"
      ]
    },
    {
      "cell_type": "code",
      "metadata": {
        "colab": {
          "base_uri": "https://localhost:8080/"
        },
        "id": "J_T8m21UJr64",
        "outputId": "7285fa35-4008-41e9-b4d5-1e169682b9d3"
      },
      "source": [
        "\n",
        "unique, counts = np.unique(km2pred, return_counts=True)\n",
        "print(np.asarray((unique, counts)).T)"
      ],
      "execution_count": null,
      "outputs": [
        {
          "output_type": "stream",
          "name": "stdout",
          "text": [
            "[[  0 167]\n",
            " [  1 167]]\n"
          ]
        }
      ]
    },
    {
      "cell_type": "code",
      "metadata": {
        "colab": {
          "base_uri": "https://localhost:8080/"
        },
        "id": "yT4vQVauLSZt",
        "outputId": "f7a44549-de6c-4d2b-dcdd-825027b014e3"
      },
      "source": [
        "\n",
        "unique, counts = np.unique(km3pred, return_counts=True)\n",
        "print(np.asarray((unique, counts)).T)"
      ],
      "execution_count": null,
      "outputs": [
        {
          "output_type": "stream",
          "name": "stdout",
          "text": [
            "[[  0 167]\n",
            " [  1  83]\n",
            " [  2  84]]\n"
          ]
        }
      ]
    },
    {
      "cell_type": "markdown",
      "metadata": {
        "id": "xSeaPsoKLai2"
      },
      "source": [
        "### Bingo! It was 2 hackers, in fact, our clustering algorithm created two equally sized clusters with K=2, no way that is a coincidence!\n",
        "\n",
        "# Great Job!"
      ]
    }
  ]
}